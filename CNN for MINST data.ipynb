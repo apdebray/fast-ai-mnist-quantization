{
  "nbformat": 4,
  "nbformat_minor": 0,
  "metadata": {
    "colab": {
      "provenance": [],
      "gpuType": "T4"
    },
    "kernelspec": {
      "name": "python3",
      "display_name": "Python 3"
    },
    "language_info": {
      "name": "python"
    },
    "accelerator": "GPU"
  },
  "cells": [
    {
      "cell_type": "code",
      "source": [
        "import torch                     # for all things PyTorch\n",
        "import torch.nn as nn            # for torch.nn.Module, the parent object for PyTorch models\n",
        "import torch.nn.functional as F  # for the activation function"
      ],
      "metadata": {
        "id": "mg4-FPkptpN4"
      },
      "execution_count": 64,
      "outputs": []
    },
    {
      "cell_type": "code",
      "source": [
        "class LeNet(nn.Module):\n",
        "\n",
        "    def __init__(self):\n",
        "        super(LeNet, self).__init__()\n",
        "        # 1 input image channel (black & white), 6 output channels, 5x5 square convolution\n",
        "        # kernel\n",
        "        self.conv1 = nn.Conv2d(1, 6, 5)\n",
        "        self.conv2 = nn.Conv2d(6, 16, 5)\n",
        "        # an affine operation: y = Wx + b\n",
        "        self.fc1 = nn.Linear(16 * 5 * 5, 120)  # 5*5 from image dimension\n",
        "        self.fc2 = nn.Linear(120, 84)\n",
        "        self.fc3 = nn.Linear(84, 10)\n",
        "\n",
        "    def forward(self, x):\n",
        "        # Max pooling over a (2, 2) window\n",
        "        x = F.max_pool2d(F.relu(self.conv1(x)), (2, 2))\n",
        "        # If the size is a square you can only specify a single number\n",
        "        x = F.max_pool2d(F.relu(self.conv2(x)), 2)\n",
        "        x = x.view(-1, self.num_flat_features(x))\n",
        "        x = F.relu(self.fc1(x))\n",
        "        x = F.relu(self.fc2(x))\n",
        "        x = self.fc3(x)\n",
        "        return x\n",
        "\n",
        "    def num_flat_features(self, x):\n",
        "        size = x.size()[1:]  # all dimensions except the batch dimension\n",
        "        num_features = 1\n",
        "        for s in size:\n",
        "            num_features *= s\n",
        "        return num_features"
      ],
      "metadata": {
        "id": "A2yYTfgFt0qu"
      },
      "execution_count": 65,
      "outputs": []
    },
    {
      "cell_type": "code",
      "source": [
        "net = LeNet()\n",
        "print(net)                         # what does the object tell us about itself?\n",
        "\n",
        "input = torch.rand(1, 1, 32, 32)   # stand-in for a 32x32 black & white image\n",
        "print('\\nImage batch shape:')\n",
        "print(input.shape)\n",
        "\n",
        "output = net(input)                # we don't call forward() directly\n",
        "print('\\nRaw output:')\n",
        "print(output)\n",
        "print(output.shape)"
      ],
      "metadata": {
        "id": "ozoVJjlruAdM",
        "outputId": "7f824ab5-49fd-4552-c116-db34557af21a",
        "colab": {
          "base_uri": "https://localhost:8080/"
        }
      },
      "execution_count": 66,
      "outputs": [
        {
          "output_type": "stream",
          "name": "stdout",
          "text": [
            "LeNet(\n",
            "  (conv1): Conv2d(1, 6, kernel_size=(5, 5), stride=(1, 1))\n",
            "  (conv2): Conv2d(6, 16, kernel_size=(5, 5), stride=(1, 1))\n",
            "  (fc1): Linear(in_features=400, out_features=120, bias=True)\n",
            "  (fc2): Linear(in_features=120, out_features=84, bias=True)\n",
            "  (fc3): Linear(in_features=84, out_features=10, bias=True)\n",
            ")\n",
            "\n",
            "Image batch shape:\n",
            "torch.Size([1, 1, 32, 32])\n",
            "\n",
            "Raw output:\n",
            "tensor([[-0.0164,  0.1396,  0.0208,  0.0906, -0.0294,  0.0429,  0.0394,  0.0114,\n",
            "         -0.0208, -0.0270]], grad_fn=<AddmmBackward0>)\n",
            "torch.Size([1, 10])\n"
          ]
        }
      ]
    },
    {
      "cell_type": "code",
      "source": [
        "import torchvision.datasets as datasets\n",
        "from torchvision.transforms import ToTensor\n",
        "\n",
        "import torchvision.transforms as transforms\n",
        "\n",
        "transform = transforms.Compose([\n",
        "    transforms.ToTensor(),\n",
        "    transforms.Normalize((0.1307,), (0.3081,))\n",
        "])\n",
        "\n",
        "train_data = datasets.MNIST(root=\"data\", train=True, download=True, transform=transform)\n",
        "test_data = datasets.MNIST(root=\"data\", train=False, download=True, transform=transform)\n"
      ],
      "metadata": {
        "id": "J6MJTlJ3gDjV"
      },
      "execution_count": 67,
      "outputs": []
    },
    {
      "cell_type": "markdown",
      "source": [
        "Download the MNIST training and test sets and transform images to PyTorch tensors (numerical arrays). Each image is 28×28 grayscale, and each label is one of 10 digits. After downloading, the code below creates data loaders for convenient batching:"
      ],
      "metadata": {
        "id": "yyYbAp4BgfD4"
      }
    },
    {
      "cell_type": "code",
      "source": [
        "from torch.utils.data import DataLoader\n",
        "\n",
        "train_loader = DataLoader(train_data, batch_size=64, shuffle=True)\n",
        "test_loader = DataLoader(test_data, batch_size=64)"
      ],
      "metadata": {
        "id": "7lRf6hdwgaDe"
      },
      "execution_count": 68,
      "outputs": []
    },
    {
      "cell_type": "markdown",
      "source": [
        "This prepares to feed the data in batches of 64 images at a time (common for training)\n",
        "docs.pytorch.org\n",
        "docs.pytorch.org\n",
        "."
      ],
      "metadata": {
        "id": "2KYT2G42grc6"
      }
    },
    {
      "cell_type": "code",
      "source": [
        "import torch\n",
        "import torch.nn as nn\n",
        "\n",
        "class ConvNet(nn.Module):\n",
        "    def __init__(self):\n",
        "        super().__init__()\n",
        "        self.conv_stack = nn.Sequential(\n",
        "            nn.Conv2d(1, 32, kernel_size=3, padding=1),\n",
        "            nn.ReLU(),\n",
        "            nn.MaxPool2d(2),\n",
        "            nn.Conv2d(32, 64, kernel_size=3, padding=1),\n",
        "            nn.ReLU(),\n",
        "            nn.MaxPool2d(2),\n",
        "        )\n",
        "        self.fc_stack = nn.Sequential(\n",
        "            nn.Flatten(),\n",
        "            nn.Linear(64 * 7 * 7, 128),\n",
        "            nn.ReLU(),\n",
        "            nn.Dropout(0.4),  # Dropout added here\n",
        "            nn.Linear(128, 10)\n",
        "        )\n",
        "\n",
        "    def forward(self, x):\n",
        "        x = self.conv_stack(x)\n",
        "        x = self.fc_stack(x)\n",
        "        return x\n",
        "\n",
        "# Instantiate the model\n",
        "model = ConvNet()"
      ],
      "metadata": {
        "id": "7HWGmrNAguQn"
      },
      "execution_count": 69,
      "outputs": []
    },
    {
      "cell_type": "markdown",
      "source": [
        "This model definition corresponds to the diagram above: flatten input to 784, then two linear layers with ReLU, then a final linear layer to get 10 outputs.\n",
        "\n",
        "Using PyTorch’s torch.nn module, define a simple feed-forward neural network. For example, you can create a class NeuralNetwork(nn.Module) with an __init__ that sets up layers, and a forward method that defines how data flows. A basic architecture for MNIST could be:\n",
        "\n",
        "Input layer: 784 inputs (since 28*28 pixels are flattened into a vector).\n",
        "\n",
        "Hidden layer 1: 512 neurons + ReLU activation.\n",
        "\n",
        "Hidden layer 2: 512 neurons + ReLU activation.\n",
        "\n",
        "Output layer: 10 neurons (one for each digit class).\n"
      ],
      "metadata": {
        "id": "MpMoFEY2hT32"
      }
    },
    {
      "cell_type": "code",
      "source": [
        "loss_fn = nn.CrossEntropyLoss()\n",
        "optimizer = torch.optim.SGD(model.parameters(), lr=1e-2)"
      ],
      "metadata": {
        "id": "pYDwyESxhYI_"
      },
      "execution_count": 70,
      "outputs": []
    },
    {
      "cell_type": "markdown",
      "source": [
        "Now, I set up a loss function and optimizer for training. For multi-class classification, I use cross-entropy loss (nn.CrossEntropyLoss), and a simple optimizer like Stochastic Gradient Descent (torch.optim.SGD). Here we use a learning rate of 0.01 (1e-2) – this might be adjusted if needed. Now write the training loop. Loop for a certain number of epochs (passes through the dataset, say 5 epochs to start). In each epoch, iterate over train_loader batches:"
      ],
      "metadata": {
        "id": "cuwP_ThFhiVE"
      }
    },
    {
      "cell_type": "code",
      "source": [
        "device = \"cuda\" if torch.cuda.is_available() else \"cpu\"\n",
        "model = ConvNet().to(device)\n",
        "\n",
        "loss_fn = nn.CrossEntropyLoss()\n",
        "optimizer = torch.optim.Adam(model.parameters(), lr=1e-3)\n",
        "\n",
        "for epoch in range(10):\n",
        "    model.train()\n",
        "    total_loss = 0\n",
        "\n",
        "    for batch, (X, y) in enumerate(train_loader):\n",
        "        X, y = X.to(device), y.to(device)\n",
        "        pred = model(X)\n",
        "        loss = loss_fn(pred, y)\n",
        "\n",
        "        optimizer.zero_grad()\n",
        "        loss.backward()\n",
        "        optimizer.step()\n",
        "\n",
        "        total_loss += loss.item()\n",
        "\n",
        "        if batch % 100 == 0:\n",
        "            print(f\"Epoch {epoch+1}, Batch {batch}, Loss: {loss.item():.4f}\")\n",
        "\n",
        "    avg_loss = total_loss / len(train_loader)\n",
        "    print(f\"Epoch {epoch+1} complete | Avg Loss: {avg_loss:.4f}\")\n"
      ],
      "metadata": {
        "colab": {
          "base_uri": "https://localhost:8080/"
        },
        "id": "m52k8-8Jhol0",
        "outputId": "8038d70f-84e3-4080-e51c-a7ed92fe9260"
      },
      "execution_count": 75,
      "outputs": [
        {
          "output_type": "stream",
          "name": "stdout",
          "text": [
            "Epoch 1, Batch 0, Loss: 2.3045\n",
            "Epoch 1, Batch 100, Loss: 0.2733\n",
            "Epoch 1, Batch 200, Loss: 0.2026\n",
            "Epoch 1, Batch 300, Loss: 0.1019\n",
            "Epoch 1, Batch 400, Loss: 0.2037\n",
            "Epoch 1, Batch 500, Loss: 0.2379\n",
            "Epoch 1, Batch 600, Loss: 0.0838\n",
            "Epoch 1, Batch 700, Loss: 0.0325\n",
            "Epoch 1, Batch 800, Loss: 0.0676\n",
            "Epoch 1, Batch 900, Loss: 0.0180\n",
            "Epoch 1 complete | Avg Loss: 0.1936\n",
            "Epoch 2, Batch 0, Loss: 0.0672\n",
            "Epoch 2, Batch 100, Loss: 0.1193\n",
            "Epoch 2, Batch 200, Loss: 0.0562\n",
            "Epoch 2, Batch 300, Loss: 0.0595\n",
            "Epoch 2, Batch 400, Loss: 0.0080\n",
            "Epoch 2, Batch 500, Loss: 0.0963\n",
            "Epoch 2, Batch 600, Loss: 0.0725\n",
            "Epoch 2, Batch 700, Loss: 0.0234\n",
            "Epoch 2, Batch 800, Loss: 0.0228\n",
            "Epoch 2, Batch 900, Loss: 0.0219\n",
            "Epoch 2 complete | Avg Loss: 0.0683\n",
            "Epoch 3, Batch 0, Loss: 0.0080\n",
            "Epoch 3, Batch 100, Loss: 0.0490\n",
            "Epoch 3, Batch 200, Loss: 0.0401\n",
            "Epoch 3, Batch 300, Loss: 0.0671\n",
            "Epoch 3, Batch 400, Loss: 0.0054\n",
            "Epoch 3, Batch 500, Loss: 0.0472\n",
            "Epoch 3, Batch 600, Loss: 0.0052\n",
            "Epoch 3, Batch 700, Loss: 0.0541\n",
            "Epoch 3, Batch 800, Loss: 0.0696\n",
            "Epoch 3, Batch 900, Loss: 0.0267\n",
            "Epoch 3 complete | Avg Loss: 0.0505\n",
            "Epoch 4, Batch 0, Loss: 0.0419\n",
            "Epoch 4, Batch 100, Loss: 0.0051\n",
            "Epoch 4, Batch 200, Loss: 0.0143\n",
            "Epoch 4, Batch 300, Loss: 0.0130\n",
            "Epoch 4, Batch 400, Loss: 0.0506\n",
            "Epoch 4, Batch 500, Loss: 0.0295\n",
            "Epoch 4, Batch 600, Loss: 0.0369\n",
            "Epoch 4, Batch 700, Loss: 0.1187\n",
            "Epoch 4, Batch 800, Loss: 0.0095\n",
            "Epoch 4, Batch 900, Loss: 0.0397\n",
            "Epoch 4 complete | Avg Loss: 0.0406\n",
            "Epoch 5, Batch 0, Loss: 0.0241\n",
            "Epoch 5, Batch 100, Loss: 0.0182\n",
            "Epoch 5, Batch 200, Loss: 0.0159\n",
            "Epoch 5, Batch 300, Loss: 0.0024\n",
            "Epoch 5, Batch 400, Loss: 0.0013\n",
            "Epoch 5, Batch 500, Loss: 0.0097\n",
            "Epoch 5, Batch 600, Loss: 0.0097\n",
            "Epoch 5, Batch 700, Loss: 0.0034\n",
            "Epoch 5, Batch 800, Loss: 0.0350\n",
            "Epoch 5, Batch 900, Loss: 0.0181\n",
            "Epoch 5 complete | Avg Loss: 0.0332\n",
            "Epoch 6, Batch 0, Loss: 0.0050\n",
            "Epoch 6, Batch 100, Loss: 0.0216\n",
            "Epoch 6, Batch 200, Loss: 0.0028\n",
            "Epoch 6, Batch 300, Loss: 0.0285\n",
            "Epoch 6, Batch 400, Loss: 0.0077\n",
            "Epoch 6, Batch 500, Loss: 0.0404\n",
            "Epoch 6, Batch 600, Loss: 0.0060\n",
            "Epoch 6, Batch 700, Loss: 0.0280\n",
            "Epoch 6, Batch 800, Loss: 0.0828\n",
            "Epoch 6, Batch 900, Loss: 0.0146\n",
            "Epoch 6 complete | Avg Loss: 0.0283\n",
            "Epoch 7, Batch 0, Loss: 0.0036\n",
            "Epoch 7, Batch 100, Loss: 0.0166\n",
            "Epoch 7, Batch 200, Loss: 0.0025\n",
            "Epoch 7, Batch 300, Loss: 0.0134\n",
            "Epoch 7, Batch 400, Loss: 0.0004\n",
            "Epoch 7, Batch 500, Loss: 0.0372\n",
            "Epoch 7, Batch 600, Loss: 0.0002\n",
            "Epoch 7, Batch 700, Loss: 0.0474\n",
            "Epoch 7, Batch 800, Loss: 0.0854\n",
            "Epoch 7, Batch 900, Loss: 0.0077\n",
            "Epoch 7 complete | Avg Loss: 0.0241\n",
            "Epoch 8, Batch 0, Loss: 0.0155\n",
            "Epoch 8, Batch 100, Loss: 0.0172\n",
            "Epoch 8, Batch 200, Loss: 0.0030\n",
            "Epoch 8, Batch 300, Loss: 0.0140\n",
            "Epoch 8, Batch 400, Loss: 0.0105\n",
            "Epoch 8, Batch 500, Loss: 0.0146\n",
            "Epoch 8, Batch 600, Loss: 0.1308\n",
            "Epoch 8, Batch 700, Loss: 0.0099\n",
            "Epoch 8, Batch 800, Loss: 0.0077\n",
            "Epoch 8, Batch 900, Loss: 0.0020\n",
            "Epoch 8 complete | Avg Loss: 0.0207\n",
            "Epoch 9, Batch 0, Loss: 0.0309\n",
            "Epoch 9, Batch 100, Loss: 0.0153\n",
            "Epoch 9, Batch 200, Loss: 0.0002\n",
            "Epoch 9, Batch 300, Loss: 0.0009\n",
            "Epoch 9, Batch 400, Loss: 0.0057\n",
            "Epoch 9, Batch 500, Loss: 0.0351\n",
            "Epoch 9, Batch 600, Loss: 0.0076\n",
            "Epoch 9, Batch 700, Loss: 0.0549\n",
            "Epoch 9, Batch 800, Loss: 0.0206\n",
            "Epoch 9, Batch 900, Loss: 0.0016\n",
            "Epoch 9 complete | Avg Loss: 0.0194\n",
            "Epoch 10, Batch 0, Loss: 0.0019\n",
            "Epoch 10, Batch 100, Loss: 0.0405\n",
            "Epoch 10, Batch 200, Loss: 0.0021\n",
            "Epoch 10, Batch 300, Loss: 0.0376\n",
            "Epoch 10, Batch 400, Loss: 0.0167\n",
            "Epoch 10, Batch 500, Loss: 0.0351\n",
            "Epoch 10, Batch 600, Loss: 0.0322\n",
            "Epoch 10, Batch 700, Loss: 0.0062\n",
            "Epoch 10, Batch 800, Loss: 0.0030\n",
            "Epoch 10, Batch 900, Loss: 0.0012\n",
            "Epoch 10 complete | Avg Loss: 0.0185\n"
          ]
        }
      ]
    },
    {
      "cell_type": "markdown",
      "source": [
        "This loop does: for each batch, get predictions, compute the loss against true labels, then do backpropagation (loss.backward()) and update weights (optimizer.step()), clearing gradients in between\n",
        "docs.pytorch.org\n",
        "docs.pytorch.org\n",
        ". The model’s parameters get adjusted in each step to reduce the loss. By the end of each epoch, the network has seen all training examples once. Print a message or loss value occasionally to track progress."
      ],
      "metadata": {
        "id": "2p69i4Ruh3ir"
      }
    },
    {
      "cell_type": "code",
      "source": [
        "model.eval()  # set to evaluation mode\n",
        "correct = 0\n",
        "total = 0\n",
        "with torch.no_grad():  # no grad needed for eval\n",
        "    for X, y in test_loader:\n",
        "        X, y = X.to(\"cuda\"), y.to(\"cuda\")\n",
        "        pred = model(X)\n",
        "        # pick class with highest predicted score for each sample\n",
        "        predicted_labels = pred.argmax(dim=1)\n",
        "        correct += (predicted_labels == y).sum().item()\n",
        "        total += y.size(0)\n",
        "print(f\"Test Accuracy: {100 * correct/total:.2f}%\")"
      ],
      "metadata": {
        "colab": {
          "base_uri": "https://localhost:8080/"
        },
        "id": "W9hNYavBi3FK",
        "outputId": "8c1da074-8901-4363-ec2e-19f6f4717562"
      },
      "execution_count": 76,
      "outputs": [
        {
          "output_type": "stream",
          "name": "stdout",
          "text": [
            "Test Accuracy: 99.23%\n"
          ]
        }
      ]
    },
    {
      "cell_type": "markdown",
      "source": [
        "Below is a visualization of a random image from the MINST dataset and then the model I created being run on the image. The predicted output from the image is listed below the code."
      ],
      "metadata": {
        "id": "SvSOA9EYkojn"
      }
    },
    {
      "cell_type": "code",
      "source": [
        "model.eval()\n",
        "images, labels = next(iter(test_loader))\n",
        "images = images.to(device)\n",
        "outputs = model(images)\n",
        "preds = outputs.argmax(dim=1)\n",
        "\n",
        "# Plot\n",
        "import matplotlib.pyplot as plt\n",
        "\n",
        "plt.figure(figsize=(10, 4))\n",
        "for i in range(10):\n",
        "    plt.subplot(2, 5, i+1)\n",
        "    plt.imshow(images[i].cpu().squeeze(), cmap='gray')\n",
        "    plt.title(f\"P:{preds[i].item()} / T:{labels[i].item()}\")\n",
        "    plt.axis('off')\n",
        "plt.show()"
      ],
      "metadata": {
        "colab": {
          "base_uri": "https://localhost:8080/",
          "height": 360
        },
        "id": "OkHuI9iqkfZ7",
        "outputId": "0e691d9c-09f1-4c2c-83c0-c43d74379afd"
      },
      "execution_count": 78,
      "outputs": [
        {
          "output_type": "display_data",
          "data": {
            "text/plain": [
              "<Figure size 1000x400 with 10 Axes>"
            ],
            "image/png": "[encoded data removed]"
          },
          "metadata": {}
        }
      ]
    },
    {
      "cell_type": "code",
      "source": [
        "# Save\n",
        "torch.save(model.state_dict(), \"mnist_cnn.pt\")\n",
        "\n",
        "# Load later\n",
        "model.load_state_dict(torch.load(\"mnist_cnn.pt\"))\n",
        "model.eval()"
      ],
      "metadata": {
        "colab": {
          "base_uri": "https://localhost:8080/"
        },
        "id": "SFqKGkNkq-OI",
        "outputId": "735ffae4-1f7a-482d-a79f-364205ae4d44"
      },
      "execution_count": 77,
      "outputs": [
        {
          "output_type": "execute_result",
          "data": {
            "text/plain": [
              "ConvNet(\n",
              "  (conv_stack): Sequential(\n",
              "    (0): Conv2d(1, 32, kernel_size=(3, 3), stride=(1, 1), padding=(1, 1))\n",
              "    (1): ReLU()\n",
              "    (2): MaxPool2d(kernel_size=2, stride=2, padding=0, dilation=1, ceil_mode=False)\n",
              "    (3): Conv2d(32, 64, kernel_size=(3, 3), stride=(1, 1), padding=(1, 1))\n",
              "    (4): ReLU()\n",
              "    (5): MaxPool2d(kernel_size=2, stride=2, padding=0, dilation=1, ceil_mode=False)\n",
              "  )\n",
              "  (fc_stack): Sequential(\n",
              "    (0): Flatten(start_dim=1, end_dim=-1)\n",
              "    (1): Linear(in_features=3136, out_features=128, bias=True)\n",
              "    (2): ReLU()\n",
              "    (3): Dropout(p=0.4, inplace=False)\n",
              "    (4): Linear(in_features=128, out_features=10, bias=True)\n",
              "  )\n",
              ")"
            ]
          },
          "metadata": {},
          "execution_count": 77
        }
      ]
    },
    {
      "cell_type": "markdown",
      "source": [
        "To improve model performance on the MNIST digit classification task, several key techniques were implemented. The input data was normalized using the dataset’s mean and standard deviation to stabilize and accelerate training. A convolutional neural network (CNN) architecture was used in place of a basic feedforward network, allowing the model to better capture spatial patterns in image data. Dropout regularization was added to the fully connected layers to reduce overfitting. The optimizer was upgraded from stochastic gradient descent (SGD) to Adam, which adapts learning rates and generally leads to faster convergence. The model was trained over 10 epochs with loss tracking per batch and epoch to monitor performance. Together, these improvements raised the model’s accuracy to 99.23%, demonstrating high generalization and robustness."
      ],
      "metadata": {
        "id": "7qnKObRRr4vo"
      }
    }
  ]
}