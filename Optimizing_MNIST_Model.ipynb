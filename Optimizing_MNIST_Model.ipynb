{
  "nbformat": 4,
  "nbformat_minor": 0,
  "metadata": {
    "colab": {
      "provenance": []
    },
    "kernelspec": {
      "name": "python3",
      "display_name": "Python 3"
    },
    "language_info": {
      "name": "python"
    }
  },
  "cells": [
    {
      "cell_type": "markdown",
      "source": [
        "FIRST Rebuilding Model, explicitly explaining Linear layers to better transfer over to be compatible for quantization"
      ],
      "metadata": {
        "id": "FTd755Sz7c4y"
      }
    },
    {
      "cell_type": "code",
      "source": [
        "import torch\n",
        "import torch.nn as nn\n",
        "import torch.nn.functional as F\n",
        "import torchvision.datasets as datasets\n",
        "import torchvision.transforms as transforms\n",
        "from torch.utils.data import DataLoader\n",
        "import torch.optim as optim\n",
        "import matplotlib.pyplot as plt\n",
        "\n",
        "# ✅ 1. Define the quantization-compatible model\n",
        "class ConvNet(nn.Module):\n",
        "    def __init__(self):\n",
        "        super().__init__()\n",
        "        self.conv_stack = nn.Sequential(\n",
        "            nn.Conv2d(1, 32, kernel_size=3, padding=1),\n",
        "            nn.ReLU(),\n",
        "            nn.MaxPool2d(2),\n",
        "            nn.Conv2d(32, 64, kernel_size=3, padding=1),\n",
        "            nn.ReLU(),\n",
        "            nn.MaxPool2d(2),\n",
        "        )\n",
        "        self.flatten = nn.Flatten()\n",
        "        self.fc1 = nn.Linear(64 * 7 * 7, 128)\n",
        "        self.relu = nn.ReLU()\n",
        "        self.dropout = nn.Dropout(0.4)\n",
        "        self.fc2 = nn.Linear(128, 10)\n",
        "\n",
        "    def forward(self, x):\n",
        "        x = self.conv_stack(x)\n",
        "        x = self.flatten(x)\n",
        "        x = self.fc1(x)\n",
        "        x = self.relu(x)\n",
        "        x = self.dropout(x)\n",
        "        x = self.fc2(x)\n",
        "        return x\n",
        "\n",
        "# ✅ 2. Load MNIST data\n",
        "transform = transforms.Compose([\n",
        "    transforms.ToTensor(),\n",
        "    transforms.Normalize((0.1307,), (0.3081,))\n",
        "])\n",
        "\n",
        "train_data = datasets.MNIST(root=\"data\", train=True, download=True, transform=transform)\n",
        "test_data = datasets.MNIST(root=\"data\", train=False, download=True, transform=transform)\n",
        "\n",
        "train_loader = DataLoader(train_data, batch_size=64, shuffle=True)\n",
        "test_loader = DataLoader(test_data, batch_size=64)\n",
        "\n",
        "# ✅ 3. Training setup\n",
        "device = \"cuda\" if torch.cuda.is_available() else \"cpu\"\n",
        "model = ConvNet().to(device)\n",
        "\n",
        "loss_fn = nn.CrossEntropyLoss()\n",
        "optimizer = optim.Adam(model.parameters(), lr=1e-3)\n",
        "\n",
        "# ✅ 4. Train the model\n",
        "for epoch in range(10):\n",
        "    model.train()\n",
        "    total_loss = 0\n",
        "\n",
        "    for batch, (X, y) in enumerate(train_loader):\n",
        "        X, y = X.to(device), y.to(device)\n",
        "\n",
        "        pred = model(X)\n",
        "        loss = loss_fn(pred, y)\n",
        "\n",
        "        optimizer.zero_grad()\n",
        "        loss.backward()\n",
        "        optimizer.step()\n",
        "\n",
        "        total_loss += loss.item()\n",
        "\n",
        "        if batch % 100 == 0:\n",
        "            print(f\"Epoch {epoch+1}, Batch {batch}, Loss: {loss.item():.4f}\")\n",
        "\n",
        "    avg_loss = total_loss / len(train_loader)\n",
        "    print(f\"✅ Epoch {epoch+1} complete | Avg Loss: {avg_loss:.4f}\")\n",
        "\n",
        "# ✅ 5. Evaluate the model\n",
        "model.eval()\n",
        "correct = 0\n",
        "total = 0\n",
        "with torch.no_grad():\n",
        "    for X, y in test_loader:\n",
        "        X, y = X.to(device), y.to(device)\n",
        "        pred = model(X)\n",
        "        predicted = pred.argmax(dim=1)\n",
        "        correct += (predicted == y).sum().item()\n",
        "        total += y.size(0)\n",
        "\n",
        "accuracy = 100 * correct / total\n",
        "print(f\"🎯 Test Accuracy: {accuracy:.2f}%\")\n",
        "\n",
        "# ✅ 6. Visualize predictions (first 10)\n",
        "images, labels = next(iter(test_loader))\n",
        "images = images.to(device)\n",
        "outputs = model(images)\n",
        "preds = outputs.argmax(dim=1)\n",
        "\n",
        "plt.figure(figsize=(10, 4))\n",
        "for i in range(10):\n",
        "    plt.subplot(2, 5, i+1)\n",
        "    plt.imshow(images[i].cpu().squeeze(), cmap='gray')\n",
        "    plt.title(f\"P:{preds[i].item()} / T:{labels[i].item()}\")\n",
        "    plt.axis('off')\n",
        "plt.show()\n",
        "\n",
        "# ✅ 7. Save the trained model (for quantization)\n",
        "model.to(\"cpu\")\n",
        "torch.save(model.state_dict(), \"mnist_cnn_clean.pt\")\n",
        "print(\"✅ Model saved to mnist_cnn_clean.pt (quantization-ready)\")\n"
      ],
      "metadata": {
        "colab": {
          "base_uri": "https://localhost:8080/",
          "height": 1000
        },
        "id": "maNbuWrK1vqo",
        "outputId": "8612b139-5f9e-4030-da6a-d599a9c32760"
      },
      "execution_count": 30,
      "outputs": [
        {
          "output_type": "stream",
          "name": "stdout",
          "text": [
            "Epoch 1, Batch 0, Loss: 2.2873\n",
            "Epoch 1, Batch 100, Loss: 0.2432\n",
            "Epoch 1, Batch 200, Loss: 0.1135\n",
            "Epoch 1, Batch 300, Loss: 0.1010\n",
            "Epoch 1, Batch 400, Loss: 0.0903\n",
            "Epoch 1, Batch 500, Loss: 0.1016\n",
            "Epoch 1, Batch 600, Loss: 0.2505\n",
            "Epoch 1, Batch 700, Loss: 0.0401\n",
            "Epoch 1, Batch 800, Loss: 0.0194\n",
            "Epoch 1, Batch 900, Loss: 0.0590\n",
            "✅ Epoch 1 complete | Avg Loss: 0.1826\n",
            "Epoch 2, Batch 0, Loss: 0.1533\n",
            "Epoch 2, Batch 100, Loss: 0.1002\n",
            "Epoch 2, Batch 200, Loss: 0.0317\n",
            "Epoch 2, Batch 300, Loss: 0.1792\n",
            "Epoch 2, Batch 400, Loss: 0.0531\n",
            "Epoch 2, Batch 500, Loss: 0.0769\n",
            "Epoch 2, Batch 600, Loss: 0.0948\n",
            "Epoch 2, Batch 700, Loss: 0.0260\n",
            "Epoch 2, Batch 800, Loss: 0.0832\n",
            "Epoch 2, Batch 900, Loss: 0.0599\n",
            "✅ Epoch 2 complete | Avg Loss: 0.0654\n",
            "Epoch 3, Batch 0, Loss: 0.0205\n",
            "Epoch 3, Batch 100, Loss: 0.0125\n",
            "Epoch 3, Batch 200, Loss: 0.0409\n",
            "Epoch 3, Batch 300, Loss: 0.0182\n",
            "Epoch 3, Batch 400, Loss: 0.0175\n",
            "Epoch 3, Batch 500, Loss: 0.0103\n",
            "Epoch 3, Batch 600, Loss: 0.0337\n",
            "Epoch 3, Batch 700, Loss: 0.1118\n",
            "Epoch 3, Batch 800, Loss: 0.0032\n",
            "Epoch 3, Batch 900, Loss: 0.1033\n",
            "✅ Epoch 3 complete | Avg Loss: 0.0474\n",
            "Epoch 4, Batch 0, Loss: 0.0213\n",
            "Epoch 4, Batch 100, Loss: 0.0337\n",
            "Epoch 4, Batch 200, Loss: 0.0048\n",
            "Epoch 4, Batch 300, Loss: 0.1177\n",
            "Epoch 4, Batch 400, Loss: 0.0160\n",
            "Epoch 4, Batch 500, Loss: 0.0026\n",
            "Epoch 4, Batch 600, Loss: 0.0131\n",
            "Epoch 4, Batch 700, Loss: 0.0199\n",
            "Epoch 4, Batch 800, Loss: 0.0057\n",
            "Epoch 4, Batch 900, Loss: 0.0118\n",
            "✅ Epoch 4 complete | Avg Loss: 0.0371\n",
            "Epoch 5, Batch 0, Loss: 0.0078\n",
            "Epoch 5, Batch 100, Loss: 0.1016\n",
            "Epoch 5, Batch 200, Loss: 0.0260\n",
            "Epoch 5, Batch 300, Loss: 0.0029\n",
            "Epoch 5, Batch 400, Loss: 0.0401\n",
            "Epoch 5, Batch 500, Loss: 0.0288\n",
            "Epoch 5, Batch 600, Loss: 0.0124\n",
            "Epoch 5, Batch 700, Loss: 0.0112\n",
            "Epoch 5, Batch 800, Loss: 0.1165\n",
            "Epoch 5, Batch 900, Loss: 0.0407\n",
            "✅ Epoch 5 complete | Avg Loss: 0.0305\n",
            "Epoch 6, Batch 0, Loss: 0.0153\n",
            "Epoch 6, Batch 100, Loss: 0.0114\n",
            "Epoch 6, Batch 200, Loss: 0.0296\n",
            "Epoch 6, Batch 300, Loss: 0.0652\n",
            "Epoch 6, Batch 400, Loss: 0.1099\n",
            "Epoch 6, Batch 500, Loss: 0.0013\n",
            "Epoch 6, Batch 600, Loss: 0.0346\n",
            "Epoch 6, Batch 700, Loss: 0.0306\n",
            "Epoch 6, Batch 800, Loss: 0.0319\n",
            "Epoch 6, Batch 900, Loss: 0.0406\n",
            "✅ Epoch 6 complete | Avg Loss: 0.0262\n",
            "Epoch 7, Batch 0, Loss: 0.0313\n",
            "Epoch 7, Batch 100, Loss: 0.0074\n",
            "Epoch 7, Batch 200, Loss: 0.0070\n",
            "Epoch 7, Batch 300, Loss: 0.0104\n",
            "Epoch 7, Batch 400, Loss: 0.0003\n",
            "Epoch 7, Batch 500, Loss: 0.0394\n",
            "Epoch 7, Batch 600, Loss: 0.1031\n",
            "Epoch 7, Batch 700, Loss: 0.0264\n",
            "Epoch 7, Batch 800, Loss: 0.0040\n",
            "Epoch 7, Batch 900, Loss: 0.0036\n",
            "✅ Epoch 7 complete | Avg Loss: 0.0229\n",
            "Epoch 8, Batch 0, Loss: 0.0407\n",
            "Epoch 8, Batch 100, Loss: 0.0013\n",
            "Epoch 8, Batch 200, Loss: 0.0038\n",
            "Epoch 8, Batch 300, Loss: 0.0016\n",
            "Epoch 8, Batch 400, Loss: 0.0053\n",
            "Epoch 8, Batch 500, Loss: 0.0044\n",
            "Epoch 8, Batch 600, Loss: 0.0005\n",
            "Epoch 8, Batch 700, Loss: 0.0073\n",
            "Epoch 8, Batch 800, Loss: 0.0104\n",
            "Epoch 8, Batch 900, Loss: 0.0262\n",
            "✅ Epoch 8 complete | Avg Loss: 0.0197\n",
            "Epoch 9, Batch 0, Loss: 0.0281\n",
            "Epoch 9, Batch 100, Loss: 0.0066\n",
            "Epoch 9, Batch 200, Loss: 0.0034\n",
            "Epoch 9, Batch 300, Loss: 0.0002\n",
            "Epoch 9, Batch 400, Loss: 0.0055\n",
            "Epoch 9, Batch 500, Loss: 0.0017\n",
            "Epoch 9, Batch 600, Loss: 0.0050\n",
            "Epoch 9, Batch 700, Loss: 0.0450\n",
            "Epoch 9, Batch 800, Loss: 0.0220\n",
            "Epoch 9, Batch 900, Loss: 0.0192\n",
            "✅ Epoch 9 complete | Avg Loss: 0.0175\n",
            "Epoch 10, Batch 0, Loss: 0.0024\n",
            "Epoch 10, Batch 100, Loss: 0.0046\n",
            "Epoch 10, Batch 200, Loss: 0.0077\n",
            "Epoch 10, Batch 300, Loss: 0.0029\n",
            "Epoch 10, Batch 400, Loss: 0.0007\n",
            "Epoch 10, Batch 500, Loss: 0.0099\n",
            "Epoch 10, Batch 600, Loss: 0.0030\n",
            "Epoch 10, Batch 700, Loss: 0.0602\n",
            "Epoch 10, Batch 800, Loss: 0.0005\n",
            "Epoch 10, Batch 900, Loss: 0.0079\n",
            "✅ Epoch 10 complete | Avg Loss: 0.0142\n",
            "🎯 Test Accuracy: 99.30%\n"
          ]
        },
        {
          "output_type": "display_data",
          "data": {
            "text/plain": [
              "<Figure size 1000x400 with 10 Axes>"
            ],
            "image/png": "[encoded data removed]"
          },
          "metadata": {}
        },
        {
          "output_type": "stream",
          "name": "stdout",
          "text": [
            "✅ Model saved to mnist_cnn_clean.pt (quantization-ready)\n"
          ]
        }
      ]
    },
    {
      "cell_type": "markdown",
      "source": [
        "QUANTIZATION STEP"
      ],
      "metadata": {
        "id": "WCKtFiNb8GM5"
      }
    },
    {
      "cell_type": "code",
      "source": [
        "import torch\n",
        "import torch.nn as nn\n",
        "\n",
        "# Reuse the same ConvNet class\n",
        "model = ConvNet()\n",
        "model.load_state_dict(torch.load(\"mnist_cnn_clean.pt\", map_location=\"cpu\"))\n",
        "model.eval()\n",
        "\n",
        "# Apply dynamic quantization (targeting Linear layers only)\n",
        "quantized_model = torch.quantization.quantize_dynamic(\n",
        "    model, {nn.Linear}, dtype=torch.qint8\n",
        ")"
      ],
      "metadata": {
        "colab": {
          "base_uri": "https://localhost:8080/"
        },
        "id": "2I4v5Ad75T3r",
        "outputId": "4b60f621-536b-4f06-cd50-8f0cceef6133"
      },
      "execution_count": 31,
      "outputs": [
        {
          "output_type": "stream",
          "name": "stderr",
          "text": [
            "/tmp/ipython-input-1364863828.py:10: DeprecationWarning: torch.ao.quantization is deprecated and will be removed in 2.10. \n",
            "For migrations of users: \n",
            "1. Eager mode quantization (torch.ao.quantization.quantize, torch.ao.quantization.quantize_dynamic), please migrate to use torchao eager mode quantize_ API instead \n",
            "2. FX graph mode quantization (torch.ao.quantization.quantize_fx.prepare_fx,torch.ao.quantization.quantize_fx.convert_fx, please migrate to use torchao pt2e quantization API instead (prepare_pt2e, convert_pt2e) \n",
            "3. pt2e quantization has been migrated to torchao (https://github.com/pytorch/ao/tree/main/torchao/quantization/pt2e) \n",
            "see https://github.com/pytorch/ao/issues/2259 for more details\n",
            "  quantized_model = torch.quantization.quantize_dynamic(\n"
          ]
        }
      ]
    },
    {
      "cell_type": "markdown",
      "source": [
        "COMPARING MODEL PERFORMANCE"
      ],
      "metadata": {
        "id": "XonjrfNB8I5B"
      }
    },
    {
      "cell_type": "code",
      "source": [
        "correct = 0\n",
        "total = 0\n",
        "\n",
        "with torch.no_grad():\n",
        "    for X, y in test_loader:\n",
        "        outputs = quantized_model(X)\n",
        "        predicted = outputs.argmax(dim=1)\n",
        "        correct += (predicted == y).sum().item()\n",
        "        total += y.size(0)\n",
        "\n",
        "accuracy = 100 * correct / total\n",
        "print(f\"✅ Quantized Model Accuracy: {accuracy:.2f}%\")\n"
      ],
      "metadata": {
        "colab": {
          "base_uri": "https://localhost:8080/"
        },
        "id": "zwcsqze85Vd-",
        "outputId": "2a426f60-f6d5-4c52-c557-ccd733f7dbfd"
      },
      "execution_count": 32,
      "outputs": [
        {
          "output_type": "stream",
          "name": "stdout",
          "text": [
            "✅ Quantized Model Accuracy: 99.30%\n"
          ]
        }
      ]
    },
    {
      "cell_type": "markdown",
      "source": [
        "SIZE REDUCTION COMPARISON"
      ],
      "metadata": {
        "id": "h9izGc7L8L0_"
      }
    },
    {
      "cell_type": "code",
      "source": [
        "import os\n",
        "\n",
        "torch.save(model.state_dict(), \"mnist_original.pt\")\n",
        "torch.save(quantized_model.state_dict(), \"mnist_quantized.pt\")\n",
        "\n",
        "original_size = os.path.getsize(\"mnist_original.pt\") / 1024\n",
        "quantized_size = os.path.getsize(\"mnist_quantized.pt\") / 1024\n",
        "\n",
        "print(f\"📦 Original: {original_size:.2f} KB\")\n",
        "print(f\"📦 Quantized: {quantized_size:.2f} KB\")\n",
        "print(f\"💡 Reduction: {100 * (original_size - quantized_size) / original_size:.2f}%\")\n"
      ],
      "metadata": {
        "colab": {
          "base_uri": "https://localhost:8080/"
        },
        "id": "yzllW8zR5beS",
        "outputId": "c382f587-c11f-4ed6-dff4-3914a4d4703f"
      },
      "execution_count": 33,
      "outputs": [
        {
          "output_type": "stream",
          "name": "stdout",
          "text": [
            "📦 Original: 1650.80 KB\n",
            "📦 Quantized: 472.45 KB\n",
            "💡 Reduction: 71.38%\n"
          ]
        }
      ]
    },
    {
      "cell_type": "markdown",
      "source": [
        "EXPORTING TO ONNX"
      ],
      "metadata": {
        "id": "hGerFq6g8OIX"
      }
    },
    {
      "cell_type": "code",
      "source": [
        "import torch\n",
        "\n",
        "dummy_input = torch.randn(1, 1, 28, 28)\n"
      ],
      "metadata": {
        "id": "My87wjT45tth"
      },
      "execution_count": 34,
      "outputs": []
    },
    {
      "cell_type": "code",
      "source": [
        "model = ConvNet()\n",
        "model.load_state_dict(torch.load(\"mnist_cnn_clean.pt\", map_location=\"cpu\"))\n",
        "model.eval()\n",
        "\n",
        "dummy_input = torch.randn(1, 1, 28, 28)\n",
        "\n",
        "torch.onnx.export(\n",
        "    model,                      # full-precision model\n",
        "    dummy_input,\n",
        "    \"mnist.onnx\",\n",
        "    input_names=['input'],\n",
        "    output_names=['output'],\n",
        "    dynamic_axes={'input': {0: 'batch_size'}, 'output': {0: 'batch_size'}},\n",
        "    opset_version=12\n",
        ")\n",
        "\n",
        "print(\"✅ Full-precision model exported to mnist.onnx\")"
      ],
      "metadata": {
        "colab": {
          "base_uri": "https://localhost:8080/"
        },
        "id": "mgvMGxcE5w63",
        "outputId": "0efa753a-4e85-496f-dd3a-90f5d70da5ca"
      },
      "execution_count": 38,
      "outputs": [
        {
          "output_type": "stream",
          "name": "stdout",
          "text": [
            "✅ Full-precision model exported to mnist.onnx\n"
          ]
        },
        {
          "output_type": "stream",
          "name": "stderr",
          "text": [
            "/tmp/ipython-input-436393442.py:7: DeprecationWarning: You are using the legacy TorchScript-based ONNX export. Starting in PyTorch 2.9, the new torch.export-based ONNX exporter will be the default. To switch now, set dynamo=True in torch.onnx.export. This new exporter supports features like exporting LLMs with DynamicCache. We encourage you to try it and share feedback to help improve the experience. Learn more about the new export logic: https://pytorch.org/docs/stable/onnx_dynamo.html. For exporting control flow: https://pytorch.org/tutorials/beginner/onnx/export_control_flow_model_to_onnx_tutorial.html.\n",
            "  torch.onnx.export(\n"
          ]
        }
      ]
    },
    {
      "cell_type": "code",
      "source": [
        "from onnxruntime.quantization import quantize_dynamic, QuantType\n",
        "\n",
        "quantize_dynamic(\n",
        "    model_input=\"mnist.onnx\",\n",
        "    model_output=\"mnist_quantized_linear.onnx\",\n",
        "    weight_type=QuantType.QInt8,\n",
        "    op_types_to_quantize=[\"MatMul\", \"Add\"]  # only quantize linear ops\n",
        ")\n",
        "\n",
        "print(\"✅ Re-quantized with linear ops only → mnist_quantized_linear.onnx\")"
      ],
      "metadata": {
        "colab": {
          "base_uri": "https://localhost:8080/"
        },
        "id": "x08xnWj76g4K",
        "outputId": "894107ee-571a-46c9-defb-bc87fcb2cfce"
      },
      "execution_count": 42,
      "outputs": [
        {
          "output_type": "stream",
          "name": "stderr",
          "text": [
            "WARNING:root:Please consider to run pre-processing before quantization. Refer to example: https://github.com/microsoft/onnxruntime-inference-examples/blob/main/quantization/image_classification/cpu/ReadMe.md \n"
          ]
        },
        {
          "output_type": "stream",
          "name": "stdout",
          "text": [
            "✅ Re-quantized with linear ops only → mnist_quantized_linear.onnx\n"
          ]
        }
      ]
    },
    {
      "cell_type": "code",
      "source": [
        "import os\n",
        "\n",
        "original_size = os.path.getsize(\"mnist.onnx\") / 1024\n",
        "quantized_size = os.path.getsize(\"mnist_quantized.onnx\") / 1024\n",
        "\n",
        "print(f\"📦 Original ONNX model: {original_size:.2f} KB\")\n",
        "print(f\"📦 Quantized ONNX model: {quantized_size:.2f} KB\")\n",
        "print(f\"💡 Size reduction: {100 * (original_size - quantized_size) / original_size:.2f}%\")\n"
      ],
      "metadata": {
        "colab": {
          "base_uri": "https://localhost:8080/"
        },
        "id": "sDYKQfkf6jvk",
        "outputId": "1dac8d8c-36a6-4908-b2d7-4eee612f01b3"
      },
      "execution_count": 43,
      "outputs": [
        {
          "output_type": "stream",
          "name": "stdout",
          "text": [
            "📦 Original ONNX model: 1648.93 KB\n",
            "📦 Quantized ONNX model: 419.49 KB\n",
            "💡 Size reduction: 74.56%\n"
          ]
        }
      ]
    },
    {
      "cell_type": "code",
      "source": [
        "import onnxruntime as ort\n",
        "import numpy as np\n",
        "\n",
        "# Load new quantized model\n",
        "session = ort.InferenceSession(\"mnist_quantized_linear.onnx\")\n",
        "\n",
        "input_name = session.get_inputs()[0].name\n",
        "X_sample, y_sample = next(iter(test_loader))\n",
        "sample_input = X_sample[0:1].numpy()\n",
        "\n",
        "output = session.run(None, {input_name: sample_input})\n",
        "predicted = np.argmax(output[0])\n",
        "\n",
        "print(f\"🧠 ONNX Prediction: {predicted}\")\n",
        "print(f\"🎯 Ground Truth: {y_sample[0].item()}\")\n",
        "\n"
      ],
      "metadata": {
        "colab": {
          "base_uri": "https://localhost:8080/"
        },
        "id": "Afph6YCu6nTF",
        "outputId": "321a336b-203a-41a3-b6e8-8d7a02ee4e34"
      },
      "execution_count": 44,
      "outputs": [
        {
          "output_type": "stream",
          "name": "stdout",
          "text": [
            "🧠 ONNX Prediction: 7\n",
            "🎯 Ground Truth: 7\n"
          ]
        }
      ]
    }
  ]
}